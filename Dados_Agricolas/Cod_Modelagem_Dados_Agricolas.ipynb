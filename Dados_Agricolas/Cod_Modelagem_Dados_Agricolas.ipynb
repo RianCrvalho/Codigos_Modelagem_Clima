{
 "cells": [
  {
   "cell_type": "code",
   "execution_count": null,
   "id": "a6a3ab91-c2a9-46a9-97fc-7fb8973df611",
   "metadata": {},
   "outputs": [],
   "source": [
    "import pandas as pd\n",
    "import codecs\n",
    "import numpy as np\n",
    "\n",
    "#Ler os arquivos de dados\n",
    "df = pd.read_excel(\"Dados_Agricolas.xlsx\")\n",
    "df=df.iloc[:]\n",
    "df"
   ]
  },
  {
   "cell_type": "code",
   "execution_count": null,
   "id": "e705467a-ace2-4bc3-945a-3afb86fbe6b8",
   "metadata": {},
   "outputs": [],
   "source": [
    "df.head()"
   ]
  },
  {
   "cell_type": "code",
   "execution_count": null,
   "id": "7cc1ec34-4f83-4f5b-88c9-d963a6e16e4b",
   "metadata": {},
   "outputs": [],
   "source": [
    "#Montando as Médias de Cada Ano\n",
    "df[(df['Data'].dt.year > 2007)].groupby(pd.Grouper(key='Data', freq='M'))['Med'].mean()"
   ]
  },
  {
   "cell_type": "code",
   "execution_count": null,
   "id": "17c63da5-8f54-4268-8963-0e4be13ade1c",
   "metadata": {},
   "outputs": [],
   "source": [
    "#Criando um codigo para criar médias quadrienais ... de 4 em 4 anos\n",
    "# Criar uma coluna para representar os intervalos de anos desejados\n",
    "df['Intervalo'] = pd.cut(df['Data'].dt.year, bins=[2007, 2011, 2015, 2019, 2023],\n",
    "                       labels=['2008-2011', '2012-2015', '2016-2019', '2020-2023'])\n",
    "\n",
    "# Calcular a média dos valores de 'Med' para cada intervalo de anos\n",
    "media_por_intervalo = df.groupby('Intervalo')['Med'].mean()\n",
    "Media_Quadrienio=pd.DataFrame(media_por_intervalo)\n",
    "Media_Quadrienio.to_excel('Media_Quadrienio_soja.xlsx',index=True)\n",
    "print(media_por_intervalo)"
   ]
  },
  {
   "cell_type": "code",
   "execution_count": null,
   "id": "df00c261-7975-46d9-88df-8e8f5e71a1e9",
   "metadata": {},
   "outputs": [],
   "source": [
    "#Media de cada mês no intervalo todo 2008-2023\n",
    "#Criando uma coluna com os intervalos\n",
    "df['Intervalo'] = pd.cut(df['Data'].dt.year, bins=[2007, 2011, 2015, 2019, 2023],\n",
    "                        labels=['2008-2011', '2012-2015', '2016-2019', '2020-2023'])\n",
    "\n",
    "# Agrupando os dados por mês e calculando os valores médios para cada mês\n",
    "monthly_avg = df.groupby(df['Data'].dt.month)['Med'].mean()\n",
    "Media_mensal_Intervalo_todo=pd.DataFrame(monthly_avg)\n",
    "Media_mensal_Intervalo_todo.to_excel('Media_mensal_Intervalo_todo_soja.xlsx',index=True)\n",
    "print(monthly_avg)"
   ]
  },
  {
   "cell_type": "code",
   "execution_count": null,
   "id": "1ac7c3d5-d70b-4656-8e11-64ea99bf6e93",
   "metadata": {},
   "outputs": [],
   "source": [
    "# Criando as médias da produçaõ agricola de cada mês para cada quadriênio\n",
    "# Criando uma coluna 'Intervalo' com base nos intervalos de ano.\n",
    "df['Intervalo'] = pd.cut(df['Data'].dt.year, bins=[2007, 2011, 2015, 2019, 2023],\n",
    "                        labels=['2008-2011', '2012-2015', '2016-2019', '2020-2023'])\n",
    "\n",
    "# Loop através de cada intervalo e calcule os valores médios para cada mês\n",
    "i=0\n",
    "for intervalo in ['2008-2011', '2012-2015', '2016-2019', '2020-2023']:\n",
    "    df_intervalo = df[df['Intervalo'] == intervalo]\n",
    "    media_mes_intervalo = df_intervalo.groupby(df_intervalo['Data'].dt.month)['Med'].mean()\n",
    "    Media_mensal_Quadrienio=pd.DataFrame(media_mes_intervalo)\n",
    "    Media_mensal_Quadrienio.to_excel(f'Media_mensal_Quadrienio{i}_soja.xlsx',index=True)\n",
    "    print(f\"Média de cada mês para o intervalo {intervalo}:\")\n",
    "    print(media_mes_intervalo)\n",
    "    i+=1\n",
    "    print()"
   ]
  }
 ],
 "metadata": {
  "kernelspec": {
   "display_name": "Python 3 (ipykernel)",
   "language": "python",
   "name": "python3"
  },
  "language_info": {
   "codemirror_mode": {
    "name": "ipython",
    "version": 3
   },
   "file_extension": ".py",
   "mimetype": "text/x-python",
   "name": "python",
   "nbconvert_exporter": "python",
   "pygments_lexer": "ipython3",
   "version": "3.9.12"
  }
 },
 "nbformat": 4,
 "nbformat_minor": 5
}
