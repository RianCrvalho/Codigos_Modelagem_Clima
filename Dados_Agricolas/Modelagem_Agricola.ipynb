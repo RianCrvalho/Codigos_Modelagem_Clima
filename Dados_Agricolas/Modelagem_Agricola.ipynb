{
 "cells": [
  {
   "cell_type": "code",
   "execution_count": 1,
   "id": "fd67efb2-b6e3-40c7-ad0d-6425e6351d5d",
   "metadata": {},
   "outputs": [],
   "source": [
    "import pandas as pd\n",
    "import codecs\n",
    "import numpy as np"
   ]
  },
  {
   "cell_type": "code",
   "execution_count": 11,
   "id": "16fefe29-1192-4f0b-8651-688f312d95bf",
   "metadata": {},
   "outputs": [
    {
     "data": {
      "text/html": [
       "<div>\n",
       "<style scoped>\n",
       "    .dataframe tbody tr th:only-of-type {\n",
       "        vertical-align: middle;\n",
       "    }\n",
       "\n",
       "    .dataframe tbody tr th {\n",
       "        vertical-align: top;\n",
       "    }\n",
       "\n",
       "    .dataframe thead th {\n",
       "        text-align: right;\n",
       "    }\n",
       "</style>\n",
       "<table border=\"1\" class=\"dataframe\">\n",
       "  <thead>\n",
       "    <tr style=\"text-align: right;\">\n",
       "      <th></th>\n",
       "      <th>Data</th>\n",
       "      <th>Varia</th>\n",
       "      <th>Med</th>\n",
       "    </tr>\n",
       "  </thead>\n",
       "  <tbody>\n",
       "    <tr>\n",
       "      <th>0</th>\n",
       "      <td>2008-01-01</td>\n",
       "      <td>Varia</td>\n",
       "      <td>2904</td>\n",
       "    </tr>\n",
       "    <tr>\n",
       "      <th>1</th>\n",
       "      <td>2008-02-01</td>\n",
       "      <td>Varia</td>\n",
       "      <td>2904</td>\n",
       "    </tr>\n",
       "    <tr>\n",
       "      <th>2</th>\n",
       "      <td>2008-03-01</td>\n",
       "      <td>Varia</td>\n",
       "      <td>2982</td>\n",
       "    </tr>\n",
       "    <tr>\n",
       "      <th>3</th>\n",
       "      <td>2008-04-01</td>\n",
       "      <td>Varia</td>\n",
       "      <td>2961</td>\n",
       "    </tr>\n",
       "    <tr>\n",
       "      <th>4</th>\n",
       "      <td>2008-05-01</td>\n",
       "      <td>Varia</td>\n",
       "      <td>3138</td>\n",
       "    </tr>\n",
       "    <tr>\n",
       "      <th>...</th>\n",
       "      <td>...</td>\n",
       "      <td>...</td>\n",
       "      <td>...</td>\n",
       "    </tr>\n",
       "    <tr>\n",
       "      <th>187</th>\n",
       "      <td>2023-08-01</td>\n",
       "      <td>Varia</td>\n",
       "      <td>3585</td>\n",
       "    </tr>\n",
       "    <tr>\n",
       "      <th>188</th>\n",
       "      <td>2023-09-01</td>\n",
       "      <td>Varia</td>\n",
       "      <td>3585</td>\n",
       "    </tr>\n",
       "    <tr>\n",
       "      <th>189</th>\n",
       "      <td>2023-10-01</td>\n",
       "      <td>Varia</td>\n",
       "      <td>3585</td>\n",
       "    </tr>\n",
       "    <tr>\n",
       "      <th>190</th>\n",
       "      <td>2023-11-01</td>\n",
       "      <td>Varia</td>\n",
       "      <td>3585</td>\n",
       "    </tr>\n",
       "    <tr>\n",
       "      <th>191</th>\n",
       "      <td>2023-12-01</td>\n",
       "      <td>Varia</td>\n",
       "      <td>3585</td>\n",
       "    </tr>\n",
       "  </tbody>\n",
       "</table>\n",
       "<p>192 rows × 3 columns</p>\n",
       "</div>"
      ],
      "text/plain": [
       "          Data  Varia   Med\n",
       "0   2008-01-01  Varia  2904\n",
       "1   2008-02-01  Varia  2904\n",
       "2   2008-03-01  Varia  2982\n",
       "3   2008-04-01  Varia  2961\n",
       "4   2008-05-01  Varia  3138\n",
       "..         ...    ...   ...\n",
       "187 2023-08-01  Varia  3585\n",
       "188 2023-09-01  Varia  3585\n",
       "189 2023-10-01  Varia  3585\n",
       "190 2023-11-01  Varia  3585\n",
       "191 2023-12-01  Varia  3585\n",
       "\n",
       "[192 rows x 3 columns]"
      ]
     },
     "execution_count": 11,
     "metadata": {},
     "output_type": "execute_result"
    }
   ],
   "source": [
    "#Ler os arquivos de dados\n",
    "df = pd.read_excel(\"Dados_Agricolas.xlsx\")\n",
    "df=df.iloc[:]\n",
    "df"
   ]
  },
  {
   "cell_type": "code",
   "execution_count": 6,
   "id": "d58125d0-d400-441f-ad4e-b0a7cbf28f55",
   "metadata": {},
   "outputs": [
    {
     "data": {
      "text/html": [
       "<div>\n",
       "<style scoped>\n",
       "    .dataframe tbody tr th:only-of-type {\n",
       "        vertical-align: middle;\n",
       "    }\n",
       "\n",
       "    .dataframe tbody tr th {\n",
       "        vertical-align: top;\n",
       "    }\n",
       "\n",
       "    .dataframe thead th {\n",
       "        text-align: right;\n",
       "    }\n",
       "</style>\n",
       "<table border=\"1\" class=\"dataframe\">\n",
       "  <thead>\n",
       "    <tr style=\"text-align: right;\">\n",
       "      <th></th>\n",
       "      <th>Data</th>\n",
       "      <th>Varia</th>\n",
       "      <th>Med</th>\n",
       "      <th>Intervalo</th>\n",
       "    </tr>\n",
       "  </thead>\n",
       "  <tbody>\n",
       "    <tr>\n",
       "      <th>0</th>\n",
       "      <td>2007-01-01</td>\n",
       "      <td>Varia</td>\n",
       "      <td>2857</td>\n",
       "      <td>NaN</td>\n",
       "    </tr>\n",
       "    <tr>\n",
       "      <th>1</th>\n",
       "      <td>2007-02-01</td>\n",
       "      <td>Varia</td>\n",
       "      <td>2857</td>\n",
       "      <td>NaN</td>\n",
       "    </tr>\n",
       "    <tr>\n",
       "      <th>2</th>\n",
       "      <td>2007-03-01</td>\n",
       "      <td>Varia</td>\n",
       "      <td>2857</td>\n",
       "      <td>NaN</td>\n",
       "    </tr>\n",
       "    <tr>\n",
       "      <th>3</th>\n",
       "      <td>2007-04-01</td>\n",
       "      <td>Varia</td>\n",
       "      <td>2857</td>\n",
       "      <td>NaN</td>\n",
       "    </tr>\n",
       "    <tr>\n",
       "      <th>4</th>\n",
       "      <td>2007-05-01</td>\n",
       "      <td>Varia</td>\n",
       "      <td>2857</td>\n",
       "      <td>NaN</td>\n",
       "    </tr>\n",
       "  </tbody>\n",
       "</table>\n",
       "</div>"
      ],
      "text/plain": [
       "        Data  Varia   Med Intervalo\n",
       "0 2007-01-01  Varia  2857       NaN\n",
       "1 2007-02-01  Varia  2857       NaN\n",
       "2 2007-03-01  Varia  2857       NaN\n",
       "3 2007-04-01  Varia  2857       NaN\n",
       "4 2007-05-01  Varia  2857       NaN"
      ]
     },
     "execution_count": 6,
     "metadata": {},
     "output_type": "execute_result"
    }
   ],
   "source": [
    "df.head()"
   ]
  },
  {
   "cell_type": "code",
   "execution_count": 12,
   "id": "3fb4dc0d-2c1d-4d8e-be7f-46bf06889356",
   "metadata": {},
   "outputs": [
    {
     "name": "stdout",
     "output_type": "stream",
     "text": [
      "Data     2007-04-01 00:00:00\n",
      "Varia                  Varia\n",
      "Med                     2857\n",
      "Name: 3, dtype: object\n"
     ]
    }
   ],
   "source": [
    "#Tentando pegar dados de só uma linha\n",
    "linha1 = df.iloc[3]\n",
    "print(linha1)"
   ]
  },
  {
   "cell_type": "code",
   "execution_count": 217,
   "id": "22c67303-9572-4494-b01e-9098101ad5f7",
   "metadata": {},
   "outputs": [],
   "source": [
    "df[\"POSI\"]= df[\"POSI\"].astype(\"float64\")"
   ]
  },
  {
   "cell_type": "code",
   "execution_count": 6,
   "id": "ac486fd0-2322-4c31-a07e-e9cc96168d70",
   "metadata": {},
   "outputs": [
    {
     "data": {
      "text/plain": [
       "dtype('O')"
      ]
     },
     "execution_count": 6,
     "metadata": {},
     "output_type": "execute_result"
    }
   ],
   "source": [
    "linha1.dtypes"
   ]
  },
  {
   "cell_type": "code",
   "execution_count": 4,
   "id": "7b801b42-33a1-486b-ab0b-ce25cda83c4c",
   "metadata": {},
   "outputs": [
    {
     "name": "stdout",
     "output_type": "stream",
     "text": [
      "2242\n"
     ]
    }
   ],
   "source": [
    "print(df[\"Med\"][9])"
   ]
  },
  {
   "cell_type": "code",
   "execution_count": 3,
   "id": "73eaf343-94f2-4995-8d01-d1b02e9fba04",
   "metadata": {},
   "outputs": [
    {
     "data": {
      "text/plain": [
       "Data     0\n",
       "Varia    0\n",
       "Med      0\n",
       "dtype: int64"
      ]
     },
     "execution_count": 3,
     "metadata": {},
     "output_type": "execute_result"
    }
   ],
   "source": [
    "df.isnull().sum()"
   ]
  },
  {
   "cell_type": "code",
   "execution_count": 220,
   "id": "512a95c7-eec1-45aa-a0a0-744610e54a5a",
   "metadata": {},
   "outputs": [],
   "source": [
    "df.dropna(subset=['TEMP'], inplace=True)"
   ]
  },
  {
   "cell_type": "code",
   "execution_count": 196,
   "id": "60518128-a1aa-4489-8827-f475fb8088cd",
   "metadata": {},
   "outputs": [],
   "source": [
    "#df.isnull().sum()\n",
    "#dadosteste=pd.DataFrame(data=df.groupby(['Data'])['TEM'].mean())"
   ]
  },
  {
   "cell_type": "code",
   "execution_count": 12,
   "id": "76190103-fb91-4a28-9cd2-91a1f0e70797",
   "metadata": {
    "tags": []
   },
   "outputs": [
    {
     "data": {
      "text/plain": [
       "Data\n",
       "2008-01-31    2904.0\n",
       "2008-02-29    2904.0\n",
       "2008-03-31    2982.0\n",
       "2008-04-30    2961.0\n",
       "2008-05-31    3138.0\n",
       "               ...  \n",
       "2023-08-31    3585.0\n",
       "2023-09-30    3585.0\n",
       "2023-10-31    3585.0\n",
       "2023-11-30    3585.0\n",
       "2023-12-31    3585.0\n",
       "Freq: M, Name: Med, Length: 192, dtype: float64"
      ]
     },
     "execution_count": 12,
     "metadata": {},
     "output_type": "execute_result"
    }
   ],
   "source": [
    "#Montando as Médias de Cada Ano\n",
    "#Montar grupos dentro de grupos\n",
    "#df.groupby(pd.Grouper(key='Data', freq='2M'))['Med'].mean()\n",
    "df[(df['Data'].dt.year > 2007)].groupby(pd.Grouper(key='Data', freq='M'))['Med'].mean()\n",
    "#dadosteste=pd.DataFrame(data=df.groupby(pd.Grouper(key='Data', freq='M'))['TEMP'].mean())"
   ]
  },
  {
   "cell_type": "code",
   "execution_count": 223,
   "id": "4e2bc766-1bc7-4eed-a957-15e28be41c7f",
   "metadata": {},
   "outputs": [],
   "source": [
    "#Gerando o arquivo para salvar\n",
    "#dadosteste.to_excel('Mtemperatura_NONAT.xlsx',index=True)"
   ]
  },
  {
   "cell_type": "code",
   "execution_count": 17,
   "id": "c0e3266f-0831-47cb-8f3f-015f5af6c4de",
   "metadata": {},
   "outputs": [
    {
     "name": "stdout",
     "output_type": "stream",
     "text": [
      "Intervalo\n",
      "2008-2011    2917.229167\n",
      "2012-2015    2538.937500\n",
      "2016-2019    2764.520833\n",
      "2020-2023    3409.562500\n",
      "Name: Med, dtype: float64\n"
     ]
    }
   ],
   "source": [
    "#Criando um codigo para criar médias quadrienais ... de 4 em 4 anos\n",
    "# Criar uma coluna para representar os intervalos de anos desejados\n",
    "df['Intervalo'] = pd.cut(df['Data'].dt.year, bins=[2007, 2011, 2015, 2019, 2023],\n",
    "                       labels=['2008-2011', '2012-2015', '2016-2019', '2020-2023'])\n",
    "\n",
    "# Calcular a média dos valores de 'Med' para cada intervalo de anos\n",
    "media_por_intervalo = df.groupby('Intervalo')['Med'].mean()\n",
    "Media_Quadrienio=pd.DataFrame(media_por_intervalo)\n",
    "Media_Quadrienio.to_excel('Media_Quadrienio_soja.xlsx',index=True)\n",
    "print(media_por_intervalo)"
   ]
  },
  {
   "cell_type": "code",
   "execution_count": 38,
   "id": "6a972fb2-ecba-4a24-88ab-c02401db8334",
   "metadata": {
    "collapsed": true,
    "jupyter": {
     "outputs_hidden": true,
     "source_hidden": true
    },
    "tags": []
   },
   "outputs": [
    {
     "name": "stdout",
     "output_type": "stream",
     "text": [
      "Data\n",
      "2007       465\n",
      "2008     11780\n",
      "2009     23126\n",
      "2010     34441\n",
      "2011     45756\n",
      "2012     57071\n",
      "2013     68417\n",
      "2014     79732\n",
      "2015     91047\n",
      "2016    102362\n",
      "2017    113708\n",
      "2018    125023\n",
      "2019    136338\n",
      "2020    147653\n",
      "2021    158999\n",
      "Name: Values, dtype: int64\n",
      "Data\n",
      "2007      15.0\n",
      "2008     380.0\n",
      "2009     746.0\n",
      "2010    1111.0\n",
      "2011    1476.0\n",
      "2012    1841.0\n",
      "2013    2207.0\n",
      "2014    2572.0\n",
      "2015    2937.0\n",
      "2016    3302.0\n",
      "2017    3668.0\n",
      "2018    4033.0\n",
      "2019    4398.0\n",
      "2020    4763.0\n",
      "2021    5129.0\n",
      "Name: Values, dtype: float64\n"
     ]
    }
   ],
   "source": [
    "# Assuming your DataFrame is named df\n",
    "import pandas as pd\n",
    "\n",
    "# Generate some sample DataFrame\n",
    "data = {'Data': pd.date_range(start='1/1/2007', end='12/31/2021', freq='D'),\n",
    "        'Values': range(5479)}\n",
    "df = pd.DataFrame(data)\n",
    "\n",
    "# Creating 'Intervalo' column based on year intervals\n",
    "df['Intervalo'] = pd.cut(df['Data'].dt.year, bins=[2007, 2010, 2014, 2018, 2022],\n",
    "                         labels=['2007-2010', '2011-2014', '2015-2018', '2019-2022'])\n",
    "\n",
    "# Filtering the DataFrame for the month of January\n",
    "january_data = df[df['Data'].dt.month == 1]\n",
    "\n",
    "# Grouping by year and summing the values for January\n",
    "january_sum = january_data.groupby(january_data['Data'].dt.year)['Values'].sum()\n",
    "\n",
    "# Calculating the average value for January\n",
    "january_avg = january_data.groupby(january_data['Data'].dt.year)['Values'].mean()\n",
    "\n",
    "print(january_sum)\n",
    "print(january_avg)"
   ]
  },
  {
   "cell_type": "code",
   "execution_count": 21,
   "id": "eae0c31e-576a-40b4-b0e7-089c35b490ea",
   "metadata": {
    "tags": []
   },
   "outputs": [
    {
     "data": {
      "text/plain": [
       "\"\\n# Generate some sample DataFrame\\ndata = {'Data': pd.date_range(start='1/1/2007', end='12/31/2021', freq='D'),\\n        'Values': range(5479)}\\ndf = pd.DataFrame(data)\\n\\n# Creating 'Intervalo' column based on year intervals\\ndf['Intervalo'] = pd.cut(df['Data'].dt.year, bins=[2007, 2011, 2015, 2019, 2023],\\n                        labels=['2008-2011', '2012-2015', '2016-2019', '2020-2023'])\\n\\n# Grouping by year and month and calculating the average values\\nmonthly_avg = df.groupby([df['Data'].dt.year, df['Data'].dt.month])['Values'].mean()\\n\\n# Reshaping the DataFrame to have years as columns and months as rows\\nmonthly_avg = monthly_avg.unstack()\\n\\nprint(monthly_avg)\\n\""
      ]
     },
     "execution_count": 21,
     "metadata": {},
     "output_type": "execute_result"
    }
   ],
   "source": [
    "import pandas as pd\n",
    "'''\n",
    "# Generate some sample DataFrame\n",
    "data = {'Data': pd.date_range(start='1/1/2007', end='12/31/2021', freq='D'),\n",
    "        'Values': range(5479)}\n",
    "df = pd.DataFrame(data)\n",
    "\n",
    "# Creating 'Intervalo' column based on year intervals\n",
    "df['Intervalo'] = pd.cut(df['Data'].dt.year, bins=[2007, 2011, 2015, 2019, 2023],\n",
    "                        labels=['2008-2011', '2012-2015', '2016-2019', '2020-2023'])\n",
    "\n",
    "# Grouping by year and month and calculating the average values\n",
    "monthly_avg = df.groupby([df['Data'].dt.year, df['Data'].dt.month])['Values'].mean()\n",
    "\n",
    "# Reshaping the DataFrame to have years as columns and months as rows\n",
    "monthly_avg = monthly_avg.unstack()\n",
    "\n",
    "print(monthly_avg)\n",
    "'''"
   ]
  },
  {
   "cell_type": "code",
   "execution_count": 22,
   "id": "bed92c7f-ca52-4187-a66b-3cbab65f3495",
   "metadata": {},
   "outputs": [
    {
     "name": "stdout",
     "output_type": "stream",
     "text": [
      "Data\n",
      "1     3144.1875\n",
      "2     3118.5000\n",
      "3     2974.3125\n",
      "4     2988.6250\n",
      "5     2837.3125\n",
      "6     2839.1875\n",
      "7     2836.0625\n",
      "8     2830.6250\n",
      "9     2830.6250\n",
      "10    2830.6250\n",
      "11    2830.3125\n",
      "12    2830.3750\n",
      "Name: Med, dtype: float64\n"
     ]
    }
   ],
   "source": [
    "import pandas as pd\n",
    "#Media de cada mês de todos os anos\n",
    "# Generate some sample DataFrame\n",
    "'''data = {'Data': pd.date_range(start='1/1/2007', end='12/31/2021', freq='D'),\n",
    "        'Values': range(5479)}\n",
    "df = pd.DataFrame(data)\n",
    "'''\n",
    "# Creating 'Intervalo' column based on year intervals\n",
    "df['Intervalo'] = pd.cut(df['Data'].dt.year, bins=[2007, 2011, 2015, 2019, 2023],\n",
    "                        labels=['2008-2011', '2012-2015', '2016-2019', '2020-2023'])\n",
    "\n",
    "# Grouping by month and calculating the average values for each month\n",
    "monthly_avg = df.groupby(df['Data'].dt.month)['Med'].mean()\n",
    "Media_mensal_Intervalo_todo=pd.DataFrame(monthly_avg)\n",
    "Media_mensal_Intervalo_todo.to_excel('Media_mensal_Intervalo_todo_soja.xlsx',index=True)\n",
    "print(monthly_avg)"
   ]
  },
  {
   "cell_type": "code",
   "execution_count": 20,
   "id": "ebe6d79f-1352-4627-82d3-85573a2388a7",
   "metadata": {},
   "outputs": [
    {
     "name": "stdout",
     "output_type": "stream",
     "text": [
      "Média de cada mês para o intervalo 2008-2011:\n",
      "Data\n",
      "1     2966.00\n",
      "2     2966.00\n",
      "3     2946.00\n",
      "4     2986.00\n",
      "5     2892.75\n",
      "6     2900.25\n",
      "7     2893.50\n",
      "8     2891.25\n",
      "9     2891.25\n",
      "10    2891.25\n",
      "11    2891.25\n",
      "12    2891.25\n",
      "Name: Med, dtype: float64\n",
      "\n",
      "Média de cada mês para o intervalo 2012-2015:\n",
      "Data\n",
      "1     3058.75\n",
      "2     2970.75\n",
      "3     2643.50\n",
      "4     2643.50\n",
      "5     2402.50\n",
      "6     2402.50\n",
      "7     2402.50\n",
      "8     2388.75\n",
      "9     2388.75\n",
      "10    2388.75\n",
      "11    2388.50\n",
      "12    2388.50\n",
      "Name: Med, dtype: float64\n",
      "\n",
      "Média de cada mês para o intervalo 2016-2019:\n",
      "Data\n",
      "1     3138.25\n",
      "2     3135.00\n",
      "3     2902.00\n",
      "4     2902.00\n",
      "5     2631.00\n",
      "6     2631.00\n",
      "7     2631.00\n",
      "8     2640.75\n",
      "9     2640.75\n",
      "10    2640.75\n",
      "11    2640.75\n",
      "12    2641.00\n",
      "Name: Med, dtype: float64\n",
      "\n",
      "Média de cada mês para o intervalo 2020-2023:\n",
      "Data\n",
      "1     3413.75\n",
      "2     3402.25\n",
      "3     3405.75\n",
      "4     3423.00\n",
      "5     3423.00\n",
      "6     3423.00\n",
      "7     3417.25\n",
      "8     3401.75\n",
      "9     3401.75\n",
      "10    3401.75\n",
      "11    3400.75\n",
      "12    3400.75\n",
      "Name: Med, dtype: float64\n",
      "\n"
     ]
    }
   ],
   "source": [
    "import pandas as pd\n",
    "#Criando as médias da produçaõ agricola de cada mês para cada quadriênio\n",
    "# Generate some sample DataFrame\n",
    "'''data = {'Data': pd.date_range(start='1/1/2007', end='12/31/2021', freq='D'),\n",
    "        'Values': range(5479)}\n",
    "df = pd.DataFrame(data)\n",
    "'''\n",
    "# Creating 'Intervalo' column based on year intervals\n",
    "df['Intervalo'] = pd.cut(df['Data'].dt.year, bins=[2007, 2011, 2015, 2019, 2023],\n",
    "                        labels=['2008-2011', '2012-2015', '2016-2019', '2020-2023'])\n",
    "\n",
    "# Loop through each interval and calculate the average values for each month\n",
    "i=0\n",
    "for intervalo in ['2008-2011', '2012-2015', '2016-2019', '2020-2023']:\n",
    "    df_intervalo = df[df['Intervalo'] == intervalo]\n",
    "    monthly_avg_intervalo = df_intervalo.groupby(df_intervalo['Data'].dt.month)['Med'].mean()\n",
    "    Media_mensal_Quadrienio=pd.DataFrame(monthly_avg_intervalo)\n",
    "    Media_mensal_Quadrienio.to_excel(f'Media_mensal_Quadrienio{i}_soja.xlsx',index=True)\n",
    "    print(f\"Média de cada mês para o intervalo {intervalo}:\")\n",
    "    print(monthly_avg_intervalo)\n",
    "    i+=1\n",
    "    print()"
   ]
  },
  {
   "cell_type": "code",
   "execution_count": 10,
   "id": "a6a839fd-346f-4c94-86c8-64d2889a7c61",
   "metadata": {},
   "outputs": [
    {
     "name": "stdout",
     "output_type": "stream",
     "text": [
      "Unnamed: 0     2023.000000\n",
      "01            14404.763198\n",
      "02            14285.395815\n",
      "03             8203.566062\n",
      "04            18091.410885\n",
      "05            25779.780291\n",
      "06            11202.614398\n",
      "07            13267.764218\n",
      "08             4735.430072\n",
      "09             5132.147940\n",
      "10             2662.936711\n",
      "11             3157.225623\n",
      "12             3231.320290\n",
      "Name: 4, dtype: float64\n"
     ]
    }
   ],
   "source": [
    "linha1 = df.iloc[3]\n",
    "print(linha1)"
   ]
  },
  {
   "cell_type": "code",
   "execution_count": 11,
   "id": "95ef3548-caf4-4671-8ac3-10c8cda8c023",
   "metadata": {},
   "outputs": [
    {
     "name": "stdout",
     "output_type": "stream",
     "text": [
      "                       4\n",
      "Unnamed: 0   2023.000000\n",
      "01          14404.763198\n",
      "02          14285.395815\n",
      "03           8203.566062\n",
      "04          18091.410885\n",
      "05          25779.780291\n",
      "06          11202.614398\n",
      "07          13267.764218\n",
      "08           4735.430072\n",
      "09           5132.147940\n",
      "10           2662.936711\n",
      "11           3157.225623\n",
      "12           3231.320290\n"
     ]
    }
   ],
   "source": [
    "linha1_df = pd.DataFrame(linha1) # Transpor para obter uma linha ao invés de uma coluna\n",
    "print(linha1_df)\n",
    "linha1_df.to_excel('dados_linha1.xlsx', index=False)  # index=False para não incluir o índice do DataFrame na planilha"
   ]
  },
  {
   "cell_type": "code",
   "execution_count": 241,
   "id": "7bd565c2-70f1-4b5e-84a5-2b9854e1012d",
   "metadata": {},
   "outputs": [],
   "source": [
    "dadosteste.to_csv('desmatamentoTra.lxsx',index=True)"
   ]
  },
  {
   "cell_type": "code",
   "execution_count": 1,
   "id": "f76d6810-1d93-4caf-81ca-de9fba980ab3",
   "metadata": {},
   "outputs": [
    {
     "name": "stdout",
     "output_type": "stream",
     "text": [
      "Valores da linha após dividir por 1000:\n",
      "A    1.0\n",
      "B    4.0\n",
      "C    7.0\n",
      "Name: 0, dtype: float64\n"
     ]
    }
   ],
   "source": [
    "import pandas as pd\n",
    "\n",
    "# Exemplo de DataFrame\n",
    "data = {'A': [1000, 2000, 3000], 'B': [4000, 5000, 6000], 'C': [7000, 8000, 9000]}\n",
    "df = pd.DataFrame(data)\n",
    "\n",
    "# Escolha a linha que deseja dividir por 1000\n",
    "linha_para_dividir = df.iloc[0]\n",
    "\n",
    "# Dividir os valores da linha por 1000\n",
    "linha_para_dividir = linha_para_dividir / 1000\n",
    "\n",
    "print(\"Valores da linha após dividir por 1000:\")\n",
    "print(linha_para_dividir)"
   ]
  },
  {
   "cell_type": "code",
   "execution_count": null,
   "id": "b42e9b22-f925-4a29-8dd6-1114ed9b7d11",
   "metadata": {},
   "outputs": [],
   "source": []
  }
 ],
 "metadata": {
  "kernelspec": {
   "display_name": "Python 3 (ipykernel)",
   "language": "python",
   "name": "python3"
  },
  "language_info": {
   "codemirror_mode": {
    "name": "ipython",
    "version": 3
   },
   "file_extension": ".py",
   "mimetype": "text/x-python",
   "name": "python",
   "nbconvert_exporter": "python",
   "pygments_lexer": "ipython3",
   "version": "3.9.12"
  }
 },
 "nbformat": 4,
 "nbformat_minor": 5
}
