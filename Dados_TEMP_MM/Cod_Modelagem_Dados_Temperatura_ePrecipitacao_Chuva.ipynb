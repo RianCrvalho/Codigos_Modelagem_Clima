{
 "cells": [
  {
   "cell_type": "code",
   "execution_count": null,
   "id": "84bc6b5d-1e2a-4b71-8483-a203bae8e385",
   "metadata": {},
   "outputs": [],
   "source": [
    "import pandas as pd\n",
    "import codecs\n",
    "import numpy as np"
   ]
  },
  {
   "cell_type": "code",
   "execution_count": null,
   "id": "e9cac030-8c05-4a09-8f28-3801e2104fb2",
   "metadata": {},
   "outputs": [],
   "source": [
    "#Ler os arquivos de dados\n",
    "df = pd.read_excel(\"Dados_TEMP_MM.xlsx\")\n",
    "df=df.iloc[:]\n",
    "df"
   ]
  },
  {
   "cell_type": "code",
   "execution_count": null,
   "id": "9e65390f-594a-4183-aa01-138557993a04",
   "metadata": {},
   "outputs": [],
   "source": [
    "#Mostrar primeiros dados da tabela\n",
    "df.head()"
   ]
  },
  {
   "cell_type": "code",
   "execution_count": null,
   "id": "c44b8951-9d4c-45dd-b323-42a6def8fdf9",
   "metadata": {},
   "outputs": [],
   "source": [
    "#Mostrar quantas linhas nulas existentes de cada variavel\n",
    "df.isnull().sum()"
   ]
  },
  {
   "cell_type": "code",
   "execution_count": null,
   "id": "6e1c6c6a-0eaa-4a29-8bb8-1296bbc2d516",
   "metadata": {},
   "outputs": [],
   "source": [
    "#Apagar as linhas que possuem TEMP null\n",
    "df.dropna(subset=['TEMP'], inplace=True)"
   ]
  },
  {
   "cell_type": "code",
   "execution_count": null,
   "id": "5d7a033d-e2f5-413c-8d4a-59bac7c5e508",
   "metadata": {},
   "outputs": [],
   "source": [
    "#Apagar as linhas que possuem MM null\n",
    "df.dropna(subset=['MM'], inplace=True)"
   ]
  },
  {
   "cell_type": "code",
   "execution_count": null,
   "id": "bf034d63-0fd3-4ec5-babc-6feaf2cbd799",
   "metadata": {},
   "outputs": [],
   "source": [
    "#Montando as Médias da Temperatura de Cada Ano\n",
    "dados_Mensais_TEMP=df[(df['Data'].dt.year > 2007)].groupby(pd.Grouper(key='Data', freq='M'))['TEMP'].mean()\n",
    "dados_TEMP=pd.DataFrame(dados_Mensais_TEMP)\n",
    "dados_TEMP.to_excel('dados_TEMP.xlsx',index=True)\n",
    "\n",
    "#Montando as Médias da Precipitação de Cada Ano\n",
    "dados_Mensais_MM=df[(df['Data'].dt.year > 2007)].groupby(pd.Grouper(key='Data', freq='M'))['MM'].mean()\n",
    "dados_MM=pd.DataFrame(dados_Mensais_MM)\n",
    "dados_MM.to_excel('dados_MM.xlsx',index=True)\n",
    "\n",
    "#Mostrando os dados\n",
    "print(dados_Mensais_MM)\n",
    "print(dados_Mensais_TEMP)"
   ]
  },
  {
   "cell_type": "code",
   "execution_count": null,
   "id": "440eaf39-218d-43d2-82f1-ef105845d608",
   "metadata": {},
   "outputs": [],
   "source": [
    "#Criando um codigo para criar médias quadrienais ... de 4 em 4 anos\n",
    "\n",
    "# Criar uma coluna para representar os intervalos de anos desejados\n",
    "df['Intervalo'] = pd.cut(df['Data'].dt.year, bins=[2007, 2011, 2015, 2019, 2023],\n",
    "                        labels=['2008-2011', '2012-2015', '2016-2019', '2020-2023'])\n",
    "\n",
    "# Calcular a média dos valores de 'TEMP' para cada intervalo de anos\n",
    "media_por_intervalo_TEMP = df.groupby('Intervalo')['TEMP'].mean()\n",
    "Media_Quadrienio_TEMP=pd.DataFrame(media_por_intervalo_TEMP)\n",
    "Media_Quadrienio_TEMP.to_excel('Media_Quadrienio_TEMP.xlsx',index=True)\n",
    "\n",
    "# Calcular a média dos valores de 'MM' para cada intervalo de anos\n",
    "media_por_intervalo_MM = df.groupby('Intervalo')['MM'].mean()\n",
    "Media_Quadrienio_MM=pd.DataFrame(media_por_intervalo_MM)\n",
    "Media_Quadrienio_MM.to_excel('Media_Quadrienio_MM.xlsx',index=True)\n",
    "# Mostrar os valores das médias\n",
    "print(media_por_intervalo_MM)\n",
    "print(media_por_intervalo_TEMP)"
   ]
  },
  {
   "cell_type": "code",
   "execution_count": null,
   "id": "4ae3f288-f2a8-4aae-ae5f-f6fede430439",
   "metadata": {},
   "outputs": [],
   "source": [
    "#Media de cada mês de todos os anos\n",
    "#Criando uma coluna com os intervalos\n",
    "df['Intervalo'] = pd.cut(df['Data'].dt.year, bins=[2007, 2011, 2015, 2019, 2023],\n",
    "                        labels=['2008-2011', '2012-2015', '2016-2019', '2020-2023'])\n",
    "\n",
    "# Agrupando os dados de 'TEMP' por mês e calculando os valores médios para cada mês\n",
    "media_mes_TEMP = df.groupby(df['Data'].dt.month)['TEMP'].mean()\n",
    "Media_mensal_Intervalo_todo_TEMP=pd.DataFrame(media_mes_TEMP)\n",
    "Media_mensal_Intervalo_todo_TEMP.to_excel('Media_mensal_Intervalo_todo_TEMP.xlsx',index=True)\n",
    "print(media_mes_TEMP)\n",
    "\n",
    "# Agrupando os dados de 'MM' por mês e calculando os valores médios para cada mês\n",
    "media_mes_MM = df.groupby(df['Data'].dt.month)['MM'].mean()\n",
    "Media_mensal_Intervalo_todo_MM=pd.DataFrame(media_mes_MM)\n",
    "Media_mensal_Intervalo_todo_MM.to_excel('Media_mensal_Intervalo_todo_MM.xlsx',index=True)\n",
    "print(media_mes_MM)"
   ]
  },
  {
   "cell_type": "code",
   "execution_count": null,
   "id": "e4a2cd89-6543-4f44-b8e3-4febed0973d9",
   "metadata": {},
   "outputs": [],
   "source": [
    "#Criando as médias da produçaõ agricola de cada mês para cada quadriênio\n",
    "# Criando uma coluna 'Intervalo' com base nos intervalos de ano.\n",
    "df['Intervalo'] = pd.cut(df['Data'].dt.year, bins=[2007, 2011, 2015, 2019, 2023],\n",
    "                        labels=['2008-2011', '2012-2015', '2016-2019', '2020-2023'])\n",
    "# Loop através de cada intervalo e calcule os valores médios de 'TEMP' para cada mês\n",
    "i=0\n",
    "for intervalo in ['2008-2011', '2012-2015', '2016-2019', '2020-2023']:\n",
    "    df_intervalo_TEMP = df[df['Intervalo'] == intervalo]\n",
    "    monthly_avg_intervalo_TEMP = df_intervalo_TEMP.groupby(df_intervalo_TEMP['Data'].dt.month)['TEMP'].mean()\n",
    "    Media_mensal_Quadrienio_TEMP=pd.DataFrame(monthly_avg_intervalo_TEMP)\n",
    "    Media_mensal_Quadrienio_TEMP.to_excel(f'Media_mensal_Quadrienio{i}_TEMP.xlsx',index=True)\n",
    "    print(f\"Média de cada mês para o intervalo {intervalo} DE TEMP:\")\n",
    "    print(monthly_avg_intervalo_TEMP)\n",
    "    i+=1\n",
    "    print()\n",
    "\n",
    "# Loop através de cada intervalo e calcule os valores médios de 'MM' para cada mês\n",
    "i=0\n",
    "for intervalo in ['2008-2011', '2012-2015', '2016-2019', '2020-2023']:\n",
    "    df_intervalo_MM = df[df['Intervalo'] == intervalo]\n",
    "    monthly_avg_intervalo_MM = df_intervalo_MM.groupby(df_intervalo_MM['Data'].dt.month)['MM'].mean()\n",
    "    Media_mensal_Quadrienio_MM=pd.DataFrame(monthly_avg_intervalo_MM)\n",
    "    Media_mensal_Quadrienio_MM.to_excel(f'Media_mensal_Quadrienio{i}_MM.xlsx',index=True)\n",
    "    print(f\"Média de cada mês para o intervalo {intervalo} DE MM:\")\n",
    "    print(monthly_avg_intervalo_MM)\n",
    "    i+=1\n",
    "    print()  "
   ]
  }
 ],
 "metadata": {
  "kernelspec": {
   "display_name": "Python 3 (ipykernel)",
   "language": "python",
   "name": "python3"
  },
  "language_info": {
   "codemirror_mode": {
    "name": "ipython",
    "version": 3
   },
   "file_extension": ".py",
   "mimetype": "text/x-python",
   "name": "python",
   "nbconvert_exporter": "python",
   "pygments_lexer": "ipython3",
   "version": "3.9.12"
  }
 },
 "nbformat": 4,
 "nbformat_minor": 5
}
