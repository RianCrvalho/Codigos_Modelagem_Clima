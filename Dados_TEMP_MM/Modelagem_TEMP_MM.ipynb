{
 "cells": [
  {
   "cell_type": "code",
   "execution_count": 2,
   "id": "fd67efb2-b6e3-40c7-ad0d-6425e6351d5d",
   "metadata": {},
   "outputs": [],
   "source": [
    "import pandas as pd\n",
    "import codecs\n",
    "import numpy as np"
   ]
  },
  {
   "cell_type": "code",
   "execution_count": 3,
   "id": "16fefe29-1192-4f0b-8651-688f312d95bf",
   "metadata": {},
   "outputs": [
    {
     "data": {
      "text/html": [
       "<div>\n",
       "<style scoped>\n",
       "    .dataframe tbody tr th:only-of-type {\n",
       "        vertical-align: middle;\n",
       "    }\n",
       "\n",
       "    .dataframe tbody tr th {\n",
       "        vertical-align: top;\n",
       "    }\n",
       "\n",
       "    .dataframe thead th {\n",
       "        text-align: right;\n",
       "    }\n",
       "</style>\n",
       "<table border=\"1\" class=\"dataframe\">\n",
       "  <thead>\n",
       "    <tr style=\"text-align: right;\">\n",
       "      <th></th>\n",
       "      <th>Data</th>\n",
       "      <th>MM</th>\n",
       "      <th>TEMP</th>\n",
       "    </tr>\n",
       "  </thead>\n",
       "  <tbody>\n",
       "    <tr>\n",
       "      <th>0</th>\n",
       "      <td>2005-01-31</td>\n",
       "      <td>NaN</td>\n",
       "      <td>NaN</td>\n",
       "    </tr>\n",
       "    <tr>\n",
       "      <th>1</th>\n",
       "      <td>2005-02-28</td>\n",
       "      <td>NaN</td>\n",
       "      <td>27.3</td>\n",
       "    </tr>\n",
       "    <tr>\n",
       "      <th>2</th>\n",
       "      <td>2005-03-31</td>\n",
       "      <td>193.8</td>\n",
       "      <td>26.5</td>\n",
       "    </tr>\n",
       "    <tr>\n",
       "      <th>3</th>\n",
       "      <td>2005-04-30</td>\n",
       "      <td>85.6</td>\n",
       "      <td>26.5</td>\n",
       "    </tr>\n",
       "    <tr>\n",
       "      <th>4</th>\n",
       "      <td>2005-05-31</td>\n",
       "      <td>56.6</td>\n",
       "      <td>26.2</td>\n",
       "    </tr>\n",
       "    <tr>\n",
       "      <th>...</th>\n",
       "      <td>...</td>\n",
       "      <td>...</td>\n",
       "      <td>...</td>\n",
       "    </tr>\n",
       "    <tr>\n",
       "      <th>3808</th>\n",
       "      <td>2023-08-31</td>\n",
       "      <td>NaN</td>\n",
       "      <td>26.8</td>\n",
       "    </tr>\n",
       "    <tr>\n",
       "      <th>3809</th>\n",
       "      <td>2023-09-30</td>\n",
       "      <td>NaN</td>\n",
       "      <td>NaN</td>\n",
       "    </tr>\n",
       "    <tr>\n",
       "      <th>3810</th>\n",
       "      <td>2023-10-31</td>\n",
       "      <td>NaN</td>\n",
       "      <td>NaN</td>\n",
       "    </tr>\n",
       "    <tr>\n",
       "      <th>3811</th>\n",
       "      <td>2023-11-30</td>\n",
       "      <td>NaN</td>\n",
       "      <td>NaN</td>\n",
       "    </tr>\n",
       "    <tr>\n",
       "      <th>3812</th>\n",
       "      <td>2023-12-31</td>\n",
       "      <td>NaN</td>\n",
       "      <td>NaN</td>\n",
       "    </tr>\n",
       "  </tbody>\n",
       "</table>\n",
       "<p>3813 rows × 3 columns</p>\n",
       "</div>"
      ],
      "text/plain": [
       "           Data     MM  TEMP\n",
       "0    2005-01-31    NaN   NaN\n",
       "1    2005-02-28    NaN  27.3\n",
       "2    2005-03-31  193.8  26.5\n",
       "3    2005-04-30   85.6  26.5\n",
       "4    2005-05-31   56.6  26.2\n",
       "...         ...    ...   ...\n",
       "3808 2023-08-31    NaN  26.8\n",
       "3809 2023-09-30    NaN   NaN\n",
       "3810 2023-10-31    NaN   NaN\n",
       "3811 2023-11-30    NaN   NaN\n",
       "3812 2023-12-31    NaN   NaN\n",
       "\n",
       "[3813 rows x 3 columns]"
      ]
     },
     "execution_count": 3,
     "metadata": {},
     "output_type": "execute_result"
    }
   ],
   "source": [
    "#Ler os arquivos de dados\n",
    "df = pd.read_excel(\"Dados_TEMP_MM.xlsx\")\n",
    "df=df.iloc[:]\n",
    "df"
   ]
  },
  {
   "cell_type": "code",
   "execution_count": 20,
   "id": "d58125d0-d400-441f-ad4e-b0a7cbf28f55",
   "metadata": {},
   "outputs": [
    {
     "data": {
      "text/html": [
       "<div>\n",
       "<style scoped>\n",
       "    .dataframe tbody tr th:only-of-type {\n",
       "        vertical-align: middle;\n",
       "    }\n",
       "\n",
       "    .dataframe tbody tr th {\n",
       "        vertical-align: top;\n",
       "    }\n",
       "\n",
       "    .dataframe thead th {\n",
       "        text-align: right;\n",
       "    }\n",
       "</style>\n",
       "<table border=\"1\" class=\"dataframe\">\n",
       "  <thead>\n",
       "    <tr style=\"text-align: right;\">\n",
       "      <th></th>\n",
       "      <th>Data</th>\n",
       "      <th>MM</th>\n",
       "      <th>TEMP</th>\n",
       "    </tr>\n",
       "  </thead>\n",
       "  <tbody>\n",
       "    <tr>\n",
       "      <th>0</th>\n",
       "      <td>2005-01-31</td>\n",
       "      <td>NaN</td>\n",
       "      <td>NaN</td>\n",
       "    </tr>\n",
       "    <tr>\n",
       "      <th>1</th>\n",
       "      <td>2005-02-28</td>\n",
       "      <td>NaN</td>\n",
       "      <td>27.3</td>\n",
       "    </tr>\n",
       "    <tr>\n",
       "      <th>2</th>\n",
       "      <td>2005-03-31</td>\n",
       "      <td>193.8</td>\n",
       "      <td>26.5</td>\n",
       "    </tr>\n",
       "    <tr>\n",
       "      <th>3</th>\n",
       "      <td>2005-04-30</td>\n",
       "      <td>85.6</td>\n",
       "      <td>26.5</td>\n",
       "    </tr>\n",
       "    <tr>\n",
       "      <th>4</th>\n",
       "      <td>2005-05-31</td>\n",
       "      <td>56.6</td>\n",
       "      <td>26.2</td>\n",
       "    </tr>\n",
       "  </tbody>\n",
       "</table>\n",
       "</div>"
      ],
      "text/plain": [
       "        Data     MM  TEMP\n",
       "0 2005-01-31    NaN   NaN\n",
       "1 2005-02-28    NaN  27.3\n",
       "2 2005-03-31  193.8  26.5\n",
       "3 2005-04-30   85.6  26.5\n",
       "4 2005-05-31   56.6  26.2"
      ]
     },
     "execution_count": 20,
     "metadata": {},
     "output_type": "execute_result"
    }
   ],
   "source": [
    "df.head()"
   ]
  },
  {
   "cell_type": "code",
   "execution_count": 21,
   "id": "3fb4dc0d-2c1d-4d8e-be7f-46bf06889356",
   "metadata": {},
   "outputs": [
    {
     "name": "stdout",
     "output_type": "stream",
     "text": [
      "Data    2005-04-30 00:00:00\n",
      "MM                     85.6\n",
      "TEMP                   26.5\n",
      "Name: 3, dtype: object\n"
     ]
    }
   ],
   "source": [
    "#Tentando pegar dados de só uma linha\n",
    "linha1 = df.iloc[3]\n",
    "print(linha1)"
   ]
  },
  {
   "cell_type": "code",
   "execution_count": 217,
   "id": "22c67303-9572-4494-b01e-9098101ad5f7",
   "metadata": {},
   "outputs": [],
   "source": [
    "df[\"POSI\"]= df[\"POSI\"].astype(\"float64\")"
   ]
  },
  {
   "cell_type": "code",
   "execution_count": 6,
   "id": "ac486fd0-2322-4c31-a07e-e9cc96168d70",
   "metadata": {},
   "outputs": [
    {
     "data": {
      "text/plain": [
       "dtype('O')"
      ]
     },
     "execution_count": 6,
     "metadata": {},
     "output_type": "execute_result"
    }
   ],
   "source": [
    "linha1.dtypes"
   ]
  },
  {
   "cell_type": "code",
   "execution_count": 4,
   "id": "7b801b42-33a1-486b-ab0b-ce25cda83c4c",
   "metadata": {},
   "outputs": [
    {
     "name": "stdout",
     "output_type": "stream",
     "text": [
      "2242\n"
     ]
    }
   ],
   "source": [
    "print(df[\"Med\"][9])"
   ]
  },
  {
   "cell_type": "code",
   "execution_count": 7,
   "id": "73eaf343-94f2-4995-8d01-d1b02e9fba04",
   "metadata": {},
   "outputs": [
    {
     "data": {
      "text/plain": [
       "Data    0\n",
       "MM      0\n",
       "TEMP    0\n",
       "dtype: int64"
      ]
     },
     "execution_count": 7,
     "metadata": {},
     "output_type": "execute_result"
    }
   ],
   "source": [
    "df.isnull().sum()"
   ]
  },
  {
   "cell_type": "code",
   "execution_count": 5,
   "id": "512a95c7-eec1-45aa-a0a0-744610e54a5a",
   "metadata": {},
   "outputs": [],
   "source": [
    "#Apagar as linhas que possuem TEMP null\n",
    "df.dropna(subset=['TEMP'], inplace=True)"
   ]
  },
  {
   "cell_type": "code",
   "execution_count": 6,
   "id": "79ba9b13-701e-49e1-aee0-4d2545d4404c",
   "metadata": {},
   "outputs": [],
   "source": [
    "#Apagar as linhas que possuem MM null\n",
    "df.dropna(subset=['MM'], inplace=True)"
   ]
  },
  {
   "cell_type": "code",
   "execution_count": 196,
   "id": "60518128-a1aa-4489-8827-f475fb8088cd",
   "metadata": {},
   "outputs": [],
   "source": [
    "#df.isnull().sum()\n",
    "#dadosteste=pd.DataFrame(data=df.groupby(['Data'])['TEM'].mean())"
   ]
  },
  {
   "cell_type": "code",
   "execution_count": 8,
   "id": "76190103-fb91-4a28-9cd2-91a1f0e70797",
   "metadata": {
    "tags": []
   },
   "outputs": [
    {
     "name": "stdout",
     "output_type": "stream",
     "text": [
      "Data\n",
      "2008-01-31    120.485714\n",
      "2008-02-29    146.885714\n",
      "2008-03-31    323.660000\n",
      "2008-04-30    245.727273\n",
      "2008-05-31     67.709091\n",
      "                 ...    \n",
      "2023-08-31      8.658824\n",
      "2023-09-30      2.862500\n",
      "2023-10-31      4.306667\n",
      "2023-11-30     72.333333\n",
      "2023-12-31     75.630769\n",
      "Freq: M, Name: MM, Length: 192, dtype: float64\n",
      "Data\n",
      "2008-01-31    27.185714\n",
      "2008-02-29    26.414286\n",
      "2008-03-31    25.060000\n",
      "2008-04-30    25.263636\n",
      "2008-05-31    25.409091\n",
      "                ...    \n",
      "2023-08-31    28.382353\n",
      "2023-09-30    29.750000\n",
      "2023-10-31    30.660000\n",
      "2023-11-30    29.346667\n",
      "2023-12-31    28.892308\n",
      "Freq: M, Name: TEMP, Length: 192, dtype: float64\n"
     ]
    }
   ],
   "source": [
    "#Montando as Médias de Cada Ano\n",
    "#Montar grupos dentro de grupos\n",
    "#df.groupby(pd.Grouper(key='Data', freq='M'))['TEMP'].mean()\n",
    "dados_Mensais_TEMP=df[(df['Data'].dt.year > 2007)].groupby(pd.Grouper(key='Data', freq='M'))['TEMP'].mean()\n",
    "dados_TEMP=pd.DataFrame(dados_Mensais_TEMP)\n",
    "dados_TEMP.to_excel('dados_TEMP.xlsx',index=True)\n",
    "\n",
    "dados_Mensais_MM=df[(df['Data'].dt.year > 2007)].groupby(pd.Grouper(key='Data', freq='M'))['MM'].mean()\n",
    "dados_MM=pd.DataFrame(dados_Mensais_MM)\n",
    "dados_MM.to_excel('dados_MM.xlsx',index=True)\n",
    "print(dados_Mensais_MM)\n",
    "print(dados_Mensais_TEMP)\n",
    "\n",
    "#dadosteste=pd.DataFrame(data=df.groupby(pd.Grouper(key='Data', freq='M'))['TEMP'].mean())"
   ]
  },
  {
   "cell_type": "code",
   "execution_count": 29,
   "id": "4e2bc766-1bc7-4eed-a957-15e28be41c7f",
   "metadata": {},
   "outputs": [],
   "source": [
    "#Gerando o arquivo para salvar\n",
    "#dadosteste.to_excel('Mtemperatura_NONAT.xlsx',index=True)\n",
    "#dados_TEMP.to_excel('dados_TEMP.xlsx',index=True)\n",
    "#dados_MM.to_excel('dados_MM.xlsx',index=True)"
   ]
  },
  {
   "cell_type": "code",
   "execution_count": 9,
   "id": "c0e3266f-0831-47cb-8f3f-015f5af6c4de",
   "metadata": {},
   "outputs": [
    {
     "name": "stdout",
     "output_type": "stream",
     "text": [
      "Intervalo\n",
      "2008-2011    81.471176\n",
      "2012-2015    50.328238\n",
      "2016-2019    62.534207\n",
      "2020-2023    88.348357\n",
      "Name: MM, dtype: float64\n",
      "Intervalo\n",
      "2008-2011    26.974853\n",
      "2012-2015    27.839508\n",
      "2016-2019    27.740891\n",
      "2020-2023    27.211033\n",
      "Name: TEMP, dtype: float64\n"
     ]
    }
   ],
   "source": [
    "#Criando um codigo para criar médias quadrienais ... de 4 em 4 anos\n",
    "# Criar uma coluna para representar os intervalos de anos desejados\n",
    "df['Intervalo'] = pd.cut(df['Data'].dt.year, bins=[2007, 2011, 2015, 2019, 2023],\n",
    "                        labels=['2008-2011', '2012-2015', '2016-2019', '2020-2023'])\n",
    "\n",
    "# Calcular a média dos valores de 'Med' para cada intervalo de anos\n",
    "media_por_intervalo_TEMP = df.groupby('Intervalo')['TEMP'].mean()\n",
    "Media_Quadrienio_TEMP=pd.DataFrame(media_por_intervalo_TEMP)\n",
    "Media_Quadrienio_TEMP.to_excel('Media_Quadrienio_TEMP.xlsx',index=True)\n",
    "\n",
    "media_por_intervalo_MM = df.groupby('Intervalo')['MM'].mean()\n",
    "Media_Quadrienio_MM=pd.DataFrame(media_por_intervalo_MM)\n",
    "Media_Quadrienio_MM.to_excel('Media_Quadrienio_MM.xlsx',index=True)\n",
    "print(media_por_intervalo_MM)\n",
    "print(media_por_intervalo_TEMP)"
   ]
  },
  {
   "cell_type": "code",
   "execution_count": 38,
   "id": "6a972fb2-ecba-4a24-88ab-c02401db8334",
   "metadata": {
    "collapsed": true,
    "jupyter": {
     "outputs_hidden": true,
     "source_hidden": true
    },
    "tags": []
   },
   "outputs": [
    {
     "name": "stdout",
     "output_type": "stream",
     "text": [
      "Data\n",
      "2007       465\n",
      "2008     11780\n",
      "2009     23126\n",
      "2010     34441\n",
      "2011     45756\n",
      "2012     57071\n",
      "2013     68417\n",
      "2014     79732\n",
      "2015     91047\n",
      "2016    102362\n",
      "2017    113708\n",
      "2018    125023\n",
      "2019    136338\n",
      "2020    147653\n",
      "2021    158999\n",
      "Name: Values, dtype: int64\n",
      "Data\n",
      "2007      15.0\n",
      "2008     380.0\n",
      "2009     746.0\n",
      "2010    1111.0\n",
      "2011    1476.0\n",
      "2012    1841.0\n",
      "2013    2207.0\n",
      "2014    2572.0\n",
      "2015    2937.0\n",
      "2016    3302.0\n",
      "2017    3668.0\n",
      "2018    4033.0\n",
      "2019    4398.0\n",
      "2020    4763.0\n",
      "2021    5129.0\n",
      "Name: Values, dtype: float64\n"
     ]
    }
   ],
   "source": [
    "# Assuming your DataFrame is named df\n",
    "import pandas as pd\n",
    "\n",
    "# Generate some sample DataFrame\n",
    "data = {'Data': pd.date_range(start='1/1/2007', end='12/31/2021', freq='D'),\n",
    "        'Values': range(5479)}\n",
    "df = pd.DataFrame(data)\n",
    "\n",
    "# Creating 'Intervalo' column based on year intervals\n",
    "df['Intervalo'] = pd.cut(df['Data'].dt.year, bins=[2007, 2010, 2014, 2018, 2022],\n",
    "                         labels=['2007-2010', '2011-2014', '2015-2018', '2019-2022'])\n",
    "\n",
    "# Filtering the DataFrame for the month of January\n",
    "january_data = df[df['Data'].dt.month == 1]\n",
    "\n",
    "# Grouping by year and summing the values for January\n",
    "january_sum = january_data.groupby(january_data['Data'].dt.year)['Values'].sum()\n",
    "\n",
    "# Calculating the average value for January\n",
    "january_avg = january_data.groupby(january_data['Data'].dt.year)['Values'].mean()\n",
    "\n",
    "print(january_sum)\n",
    "print(january_avg)"
   ]
  },
  {
   "cell_type": "code",
   "execution_count": 39,
   "id": "eae0c31e-576a-40b4-b0e7-089c35b490ea",
   "metadata": {
    "collapsed": true,
    "jupyter": {
     "outputs_hidden": true,
     "source_hidden": true
    },
    "tags": []
   },
   "outputs": [
    {
     "name": "stdout",
     "output_type": "stream",
     "text": [
      "Data      1       2       3       4       5       6       7       8       9   \\\n",
      "Data                                                                           \n",
      "2007    15.0    44.5    74.0   104.5   135.0   165.5   196.0   227.0   257.5   \n",
      "2008   380.0   410.0   440.0   470.5   501.0   531.5   562.0   593.0   623.5   \n",
      "2009   746.0   775.5   805.0   835.5   866.0   896.5   927.0   958.0   988.5   \n",
      "2010  1111.0  1140.5  1170.0  1200.5  1231.0  1261.5  1292.0  1323.0  1353.5   \n",
      "2011  1476.0  1505.5  1535.0  1565.5  1596.0  1626.5  1657.0  1688.0  1718.5   \n",
      "2012  1841.0  1871.0  1901.0  1931.5  1962.0  1992.5  2023.0  2054.0  2084.5   \n",
      "2013  2207.0  2236.5  2266.0  2296.5  2327.0  2357.5  2388.0  2419.0  2449.5   \n",
      "2014  2572.0  2601.5  2631.0  2661.5  2692.0  2722.5  2753.0  2784.0  2814.5   \n",
      "2015  2937.0  2966.5  2996.0  3026.5  3057.0  3087.5  3118.0  3149.0  3179.5   \n",
      "2016  3302.0  3332.0  3362.0  3392.5  3423.0  3453.5  3484.0  3515.0  3545.5   \n",
      "2017  3668.0  3697.5  3727.0  3757.5  3788.0  3818.5  3849.0  3880.0  3910.5   \n",
      "2018  4033.0  4062.5  4092.0  4122.5  4153.0  4183.5  4214.0  4245.0  4275.5   \n",
      "2019  4398.0  4427.5  4457.0  4487.5  4518.0  4548.5  4579.0  4610.0  4640.5   \n",
      "2020  4763.0  4793.0  4823.0  4853.5  4884.0  4914.5  4945.0  4976.0  5006.5   \n",
      "2021  5129.0  5158.5  5188.0  5218.5  5249.0  5279.5  5310.0  5341.0  5371.5   \n",
      "\n",
      "Data      10      11      12  \n",
      "Data                          \n",
      "2007   288.0   318.5   349.0  \n",
      "2008   654.0   684.5   715.0  \n",
      "2009  1019.0  1049.5  1080.0  \n",
      "2010  1384.0  1414.5  1445.0  \n",
      "2011  1749.0  1779.5  1810.0  \n",
      "2012  2115.0  2145.5  2176.0  \n",
      "2013  2480.0  2510.5  2541.0  \n",
      "2014  2845.0  2875.5  2906.0  \n",
      "2015  3210.0  3240.5  3271.0  \n",
      "2016  3576.0  3606.5  3637.0  \n",
      "2017  3941.0  3971.5  4002.0  \n",
      "2018  4306.0  4336.5  4367.0  \n",
      "2019  4671.0  4701.5  4732.0  \n",
      "2020  5037.0  5067.5  5098.0  \n",
      "2021  5402.0  5432.5  5463.0  \n"
     ]
    }
   ],
   "source": [
    "import pandas as pd\n",
    "\n",
    "# Generate some sample DataFrame\n",
    "data = {'Data': pd.date_range(start='1/1/2007', end='12/31/2021', freq='D'),\n",
    "        'Values': range(5479)}\n",
    "df = pd.DataFrame(data)\n",
    "\n",
    "# Creating 'Intervalo' column based on year intervals\n",
    "df['Intervalo'] = pd.cut(df['Data'].dt.year, bins=[2008, 2011, 2015, 2019, 2023],\n",
    "                        labels=['2008-2011', '2012-2015', '2016-2019', '2020-2023'])\n",
    "\n",
    "# Grouping by year and month and calculating the average values\n",
    "monthly_avg = df.groupby([df['Data'].dt.year, df['Data'].dt.month])['Values'].mean()\n",
    "\n",
    "# Reshaping the DataFrame to have years as columns and months as rows\n",
    "monthly_avg = monthly_avg.unstack()\n",
    "\n",
    "print(monthly_avg)"
   ]
  },
  {
   "cell_type": "code",
   "execution_count": 10,
   "id": "bed92c7f-ca52-4187-a66b-3cbab65f3495",
   "metadata": {},
   "outputs": [
    {
     "name": "stdout",
     "output_type": "stream",
     "text": [
      "Data\n",
      "1     26.789000\n",
      "2     26.357062\n",
      "3     26.294500\n",
      "4     26.302294\n",
      "5     26.684259\n",
      "6     26.479237\n",
      "7     26.693004\n",
      "8     27.741434\n",
      "9     29.220949\n",
      "10    29.761411\n",
      "11    28.854018\n",
      "12    27.961538\n",
      "Name: TEMP, dtype: float64\n",
      "Data\n",
      "1     121.279000\n",
      "2     157.651977\n",
      "3     186.933000\n",
      "4     139.253211\n",
      "5      61.718519\n",
      "6      14.128814\n",
      "7       7.396708\n",
      "8       2.661355\n",
      "9       4.433992\n",
      "10     32.276349\n",
      "11     62.258036\n",
      "12     84.131624\n",
      "Name: MM, dtype: float64\n"
     ]
    }
   ],
   "source": [
    "import pandas as pd\n",
    "#Media de cada mês de todos os anos\n",
    "# Generate some sample DataFrame\n",
    "'''data = {'Data': pd.date_range(start='1/1/2007', end='12/31/2021', freq='D'),\n",
    "        'Values': range(5479)}\n",
    "df = pd.DataFrame(data)\n",
    "'''\n",
    "# Creating 'Intervalo' column based on year intervals\n",
    "df['Intervalo'] = pd.cut(df['Data'].dt.year, bins=[2007, 2011, 2015, 2019, 2023],\n",
    "                        labels=['2008-2011', '2012-2015', '2016-2019', '2020-2023'])\n",
    "\n",
    "# Grouping by month and calculating the average values for each month\n",
    "monthly_avg_TEMP = df.groupby(df['Data'].dt.month)['TEMP'].mean()\n",
    "Media_mensal_Intervalo_todo_TEMP=pd.DataFrame(monthly_avg_TEMP)\n",
    "Media_mensal_Intervalo_todo_TEMP.to_excel('Media_mensal_Intervalo_todo_TEMP.xlsx',index=True)\n",
    "print(monthly_avg_TEMP)\n",
    "\n",
    "monthly_avg_MM = df.groupby(df['Data'].dt.month)['MM'].mean()\n",
    "Media_mensal_Intervalo_todo_MM=pd.DataFrame(monthly_avg_MM)\n",
    "Media_mensal_Intervalo_todo_MM.to_excel('Media_mensal_Intervalo_todo_MM.xlsx',index=True)\n",
    "print(monthly_avg_MM)"
   ]
  },
  {
   "cell_type": "code",
   "execution_count": 11,
   "id": "ebe6d79f-1352-4627-82d3-85573a2388a7",
   "metadata": {},
   "outputs": [
    {
     "name": "stdout",
     "output_type": "stream",
     "text": [
      "Média de cada mês para o intervalo 2008-2011 DE TEMP:\n",
      "Data\n",
      "1     26.444681\n",
      "2     26.417391\n",
      "3     25.970588\n",
      "4     25.812963\n",
      "5     26.110714\n",
      "6     25.770312\n",
      "7     26.081538\n",
      "8     27.260317\n",
      "9     28.840323\n",
      "10    28.944828\n",
      "11    28.480357\n",
      "12    27.248276\n",
      "Name: TEMP, dtype: float64\n",
      "\n",
      "Média de cada mês para o intervalo 2012-2015 DE TEMP:\n",
      "Data\n",
      "1     27.064286\n",
      "2     26.604167\n",
      "3     26.633333\n",
      "4     26.600000\n",
      "5     27.021875\n",
      "6     26.995588\n",
      "7     27.256944\n",
      "8     27.856944\n",
      "9     29.382192\n",
      "10    30.121739\n",
      "11    29.190625\n",
      "12    28.585714\n",
      "Name: TEMP, dtype: float64\n",
      "\n",
      "Média de cada mês para o intervalo 2016-2019 DE TEMP:\n",
      "Data\n",
      "1     27.100000\n",
      "2     26.309615\n",
      "3     26.505455\n",
      "4     26.524615\n",
      "5     27.040323\n",
      "6     26.769231\n",
      "7     26.689706\n",
      "8     28.051429\n",
      "9     29.456338\n",
      "10    30.034328\n",
      "11    29.488710\n",
      "12    28.249231\n",
      "Name: TEMP, dtype: float64\n",
      "\n",
      "Média de cada mês para o intervalo 2020-2023 DE TEMP:\n",
      "Data\n",
      "1     26.145455\n",
      "2     25.963333\n",
      "3     25.737931\n",
      "4     26.082353\n",
      "5     26.306250\n",
      "6     26.188235\n",
      "7     26.603030\n",
      "8     27.743902\n",
      "9     29.160000\n",
      "10    29.785000\n",
      "11    27.817500\n",
      "12    27.472500\n",
      "Name: TEMP, dtype: float64\n",
      "\n",
      "Média de cada mês para o intervalo 2008-2011 DE MM:\n",
      "Data\n",
      "1     133.587234\n",
      "2     151.586957\n",
      "3     221.764706\n",
      "4     203.570370\n",
      "5     109.753571\n",
      "6      20.212500\n",
      "7       9.960000\n",
      "8       3.533333\n",
      "9       2.387097\n",
      "10     56.696552\n",
      "11     42.757143\n",
      "12     98.368966\n",
      "Name: MM, dtype: float64\n",
      "\n",
      "Média de cada mês para o intervalo 2012-2015 DE MM:\n",
      "Data\n",
      "1      78.760714\n",
      "2     123.687500\n",
      "3     135.720000\n",
      "4     105.253968\n",
      "5      43.893750\n",
      "6      12.950000\n",
      "7       6.036111\n",
      "8       0.788889\n",
      "9       1.961644\n",
      "10     13.828986\n",
      "11     66.515625\n",
      "12     66.603175\n",
      "Name: MM, dtype: float64\n",
      "\n",
      "Média de cada mês para o intervalo 2016-2019 DE MM:\n",
      "Data\n",
      "1     134.813115\n",
      "2     182.215385\n",
      "3     165.923636\n",
      "4     115.870769\n",
      "5      35.109677\n",
      "6       8.150769\n",
      "7       5.344118\n",
      "8       1.911429\n",
      "9       6.121127\n",
      "10     29.394030\n",
      "11     41.729032\n",
      "12     79.421538\n",
      "Name: MM, dtype: float64\n",
      "\n",
      "Média de cada mês para o intervalo 2020-2023 DE MM:\n",
      "Data\n",
      "1     160.503030\n",
      "2     183.906667\n",
      "3     280.282759\n",
      "4     150.452941\n",
      "5      66.950000\n",
      "6      14.558824\n",
      "7       7.060606\n",
      "8       5.980488\n",
      "9       9.000000\n",
      "10     34.260000\n",
      "11    114.440000\n",
      "12    103.885000\n",
      "Name: MM, dtype: float64\n",
      "\n"
     ]
    }
   ],
   "source": [
    "import pandas as pd\n",
    "#Criando as médias da produçaõ agricola de cada mês para cada quadriênio\n",
    "# Generate some sample DataFrame\n",
    "'''data = {'Data': pd.date_range(start='1/1/2007', end='12/31/2021', freq='D'),\n",
    "        'Values': range(5479)}\n",
    "df = pd.DataFrame(data)\n",
    "'''\n",
    "# Creating 'Intervalo' column based on year intervals\n",
    "df['Intervalo'] = pd.cut(df['Data'].dt.year, bins=[2007, 2011, 2015, 2019, 2023],\n",
    "                        labels=['2008-2011', '2012-2015', '2016-2019', '2020-2023'])\n",
    "# Loop through each interval and calculate the average values for each month\n",
    "i=0\n",
    "for intervalo in ['2008-2011', '2012-2015', '2016-2019', '2020-2023']:\n",
    "    df_intervalo_TEMP = df[df['Intervalo'] == intervalo]\n",
    "    monthly_avg_intervalo_TEMP = df_intervalo_TEMP.groupby(df_intervalo_TEMP['Data'].dt.month)['TEMP'].mean()\n",
    "    Media_mensal_Quadrienio_TEMP=pd.DataFrame(monthly_avg_intervalo_TEMP)\n",
    "    Media_mensal_Quadrienio_TEMP.to_excel(f'Media_mensal_Quadrienio{i}_TEMP.xlsx',index=True)\n",
    "    print(f\"Média de cada mês para o intervalo {intervalo} DE TEMP:\")\n",
    "    print(monthly_avg_intervalo_TEMP)\n",
    "    i+=1\n",
    "    print()\n",
    "\n",
    "i=0\n",
    "for intervalo in ['2008-2011', '2012-2015', '2016-2019', '2020-2023']:\n",
    "    df_intervalo_MM = df[df['Intervalo'] == intervalo]\n",
    "    monthly_avg_intervalo_MM = df_intervalo_MM.groupby(df_intervalo_MM['Data'].dt.month)['MM'].mean()\n",
    "    Media_mensal_Quadrienio_MM=pd.DataFrame(monthly_avg_intervalo_MM)\n",
    "    Media_mensal_Quadrienio_MM.to_excel(f'Media_mensal_Quadrienio{i}_MM.xlsx',index=True)\n",
    "    print(f\"Média de cada mês para o intervalo {intervalo} DE MM:\")\n",
    "    print(monthly_avg_intervalo_MM)\n",
    "    i+=1\n",
    "    print()  \n"
   ]
  },
  {
   "cell_type": "code",
   "execution_count": 10,
   "id": "a6a839fd-346f-4c94-86c8-64d2889a7c61",
   "metadata": {},
   "outputs": [
    {
     "name": "stdout",
     "output_type": "stream",
     "text": [
      "Unnamed: 0     2023.000000\n",
      "01            14404.763198\n",
      "02            14285.395815\n",
      "03             8203.566062\n",
      "04            18091.410885\n",
      "05            25779.780291\n",
      "06            11202.614398\n",
      "07            13267.764218\n",
      "08             4735.430072\n",
      "09             5132.147940\n",
      "10             2662.936711\n",
      "11             3157.225623\n",
      "12             3231.320290\n",
      "Name: 4, dtype: float64\n"
     ]
    }
   ],
   "source": [
    "linha1 = df.iloc[3]\n",
    "print(linha1)"
   ]
  },
  {
   "cell_type": "code",
   "execution_count": 11,
   "id": "95ef3548-caf4-4671-8ac3-10c8cda8c023",
   "metadata": {},
   "outputs": [
    {
     "name": "stdout",
     "output_type": "stream",
     "text": [
      "                       4\n",
      "Unnamed: 0   2023.000000\n",
      "01          14404.763198\n",
      "02          14285.395815\n",
      "03           8203.566062\n",
      "04          18091.410885\n",
      "05          25779.780291\n",
      "06          11202.614398\n",
      "07          13267.764218\n",
      "08           4735.430072\n",
      "09           5132.147940\n",
      "10           2662.936711\n",
      "11           3157.225623\n",
      "12           3231.320290\n"
     ]
    }
   ],
   "source": [
    "linha1_df = pd.DataFrame(linha1) # Transpor para obter uma linha ao invés de uma coluna\n",
    "print(linha1_df)\n",
    "linha1_df.to_excel('dados_linha1.xlsx', index=False)  # index=False para não incluir o índice do DataFrame na planilha"
   ]
  },
  {
   "cell_type": "code",
   "execution_count": 241,
   "id": "7bd565c2-70f1-4b5e-84a5-2b9854e1012d",
   "metadata": {},
   "outputs": [],
   "source": [
    "dadosteste.to_csv('desmatamentoTra.lxsx',index=True)"
   ]
  },
  {
   "cell_type": "code",
   "execution_count": 1,
   "id": "f76d6810-1d93-4caf-81ca-de9fba980ab3",
   "metadata": {},
   "outputs": [
    {
     "name": "stdout",
     "output_type": "stream",
     "text": [
      "Valores da linha após dividir por 1000:\n",
      "A    1.0\n",
      "B    4.0\n",
      "C    7.0\n",
      "Name: 0, dtype: float64\n"
     ]
    }
   ],
   "source": [
    "import pandas as pd\n",
    "\n",
    "# Exemplo de DataFrame\n",
    "data = {'A': [1000, 2000, 3000], 'B': [4000, 5000, 6000], 'C': [7000, 8000, 9000]}\n",
    "df = pd.DataFrame(data)\n",
    "\n",
    "# Escolha a linha que deseja dividir por 1000\n",
    "linha_para_dividir = df.iloc[0]\n",
    "\n",
    "# Dividir os valores da linha por 1000\n",
    "linha_para_dividir = linha_para_dividir / 1000\n",
    "\n",
    "print(\"Valores da linha após dividir por 1000:\")\n",
    "print(linha_para_dividir)"
   ]
  },
  {
   "cell_type": "code",
   "execution_count": null,
   "id": "b42e9b22-f925-4a29-8dd6-1114ed9b7d11",
   "metadata": {},
   "outputs": [],
   "source": []
  }
 ],
 "metadata": {
  "kernelspec": {
   "display_name": "Python 3 (ipykernel)",
   "language": "python",
   "name": "python3"
  },
  "language_info": {
   "codemirror_mode": {
    "name": "ipython",
    "version": 3
   },
   "file_extension": ".py",
   "mimetype": "text/x-python",
   "name": "python",
   "nbconvert_exporter": "python",
   "pygments_lexer": "ipython3",
   "version": "3.9.12"
  }
 },
 "nbformat": 4,
 "nbformat_minor": 5
}
