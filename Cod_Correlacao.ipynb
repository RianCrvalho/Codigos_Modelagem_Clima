{
 "cells": [
  {
   "cell_type": "code",
   "execution_count": null,
   "id": "9ec7bc3f-496d-48f0-a536-174fe3e0b95b",
   "metadata": {},
   "outputs": [],
   "source": [
    "import pandas as pd\n",
    "import numpy as np\n",
    "import statsmodels.api as sm\n",
    "import matplotlib.pyplot as plt\n",
    "\n",
    "# Ler o arquivo Excel\n",
    "dfa = pd.read_excel(\"Dados_Agricolas/Dados_Agricolas.xlsx\")\n",
    "dft = pd.read_excel(\"Dados_TEMP_MM/dados_dual.xlsx\")\n",
    "\n",
    "# Separar as variáveis independentes e dependentes\n",
    "y = dfa['Med']\n",
    "\n",
    "# Definindo as variáveis independentes (com uma constante adicionada)\n",
    "X = dft[['TEMP', 'MM']]\n",
    "\n",
    "# Adicionando uma coluna de 1s para o intercepto\n",
    "X = sm.add_constant(X)\n",
    "\n",
    "# Ajustando o modelo de regressão linear\n",
    "modelo = sm.OLS(y, X)\n",
    "resultado = modelo.fit()\n",
    "\n",
    "# Imprimindo os resultados\n",
    "print(resultado.summary(title='Modelo da Regressão Multipla'))\n",
    "\n",
    "# Gráfico de dispersão dos dados observados versus valores preditos\n",
    "plt.scatter(y, resultado.predict(X), label='Observado vs. Predito')\n",
    "plt.xlabel('Produção Agrícola Observada')\n",
    "plt.ylabel('Produção Agrícola Predita')\n",
    "# Adicionando a linha de regressão\n",
    "plt.plot(y, y, color='red', label='Reta de Regressão')\n",
    "plt.legend()\n",
    "plt.xlim([950, 3750])\n",
    "plt.ylim([2450, 3350])\n",
    "plt.title('Gráfico de Dispersão: Observado vs. Predito com Reta de Regressão')\n",
    "plt.show()\n"
   ]
  }
 ],
 "metadata": {
  "kernelspec": {
   "display_name": "Python 3 (ipykernel)",
   "language": "python",
   "name": "python3"
  },
  "language_info": {
   "codemirror_mode": {
    "name": "ipython",
    "version": 3
   },
   "file_extension": ".py",
   "mimetype": "text/x-python",
   "name": "python",
   "nbconvert_exporter": "python",
   "pygments_lexer": "ipython3",
   "version": "3.9.12"
  }
 },
 "nbformat": 4,
 "nbformat_minor": 5
}
